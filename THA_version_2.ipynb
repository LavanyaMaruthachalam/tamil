{
  "nbformat": 4,
  "nbformat_minor": 0,
  "metadata": {
    "colab": {
      "provenance": [],
      "gpuType": "T4"
    },
    "kernelspec": {
      "name": "python3",
      "display_name": "Python 3"
    },
    "language_info": {
      "name": "python"
    },
    "accelerator": "GPU"
  },
  "cells": [
    {
      "cell_type": "code",
      "execution_count": 1,
      "metadata": {
        "colab": {
          "base_uri": "https://localhost:8080/"
        },
        "id": "FxYies4_Wa3D",
        "outputId": "f82e9430-98b5-4814-eaea-8e26066978f8"
      },
      "outputs": [
        {
          "output_type": "stream",
          "name": "stdout",
          "text": [
            "Drive already mounted at /content/drive; to attempt to forcibly remount, call drive.mount(\"/content/drive\", force_remount=True).\n"
          ]
        }
      ],
      "source": [
        "# Mount Google drive to read data from it\n",
        "from google.colab import drive\n",
        "drive.mount('/content/drive')"
      ]
    },
    {
      "cell_type": "code",
      "source": [
        "!pip install gunicorn\n"
      ],
      "metadata": {
        "colab": {
          "base_uri": "https://localhost:8080/"
        },
        "id": "0UzK38L5Eflh",
        "outputId": "a831e455-5144-42c3-e8c5-187de9268751"
      },
      "execution_count": 7,
      "outputs": [
        {
          "output_type": "stream",
          "name": "stdout",
          "text": [
            "Collecting gunicorn\n",
            "  Downloading gunicorn-22.0.0-py3-none-any.whl (84 kB)\n",
            "\u001b[?25l     \u001b[90m━━━━━━━━━━━━━━━━━━━━━━━━━━━━━━━━━━━━━━━━\u001b[0m \u001b[32m0.0/84.4 kB\u001b[0m \u001b[31m?\u001b[0m eta \u001b[36m-:--:--\u001b[0m\r\u001b[2K     \u001b[90m━━━━━━━━━━━━━━━━━━━━━━━━━━━━━━━━━━━━━━━━\u001b[0m \u001b[32m84.4/84.4 kB\u001b[0m \u001b[31m3.2 MB/s\u001b[0m eta \u001b[36m0:00:00\u001b[0m\n",
            "\u001b[?25hRequirement already satisfied: packaging in /usr/local/lib/python3.10/dist-packages (from gunicorn) (24.0)\n",
            "Installing collected packages: gunicorn\n",
            "Successfully installed gunicorn-22.0.0\n"
          ]
        }
      ]
    },
    {
      "cell_type": "code",
      "source": [
        "!pip install Flask SQLAlchemy\n"
      ],
      "metadata": {
        "colab": {
          "base_uri": "https://localhost:8080/"
        },
        "id": "g1RI7onN2S2O",
        "outputId": "e004e0f9-e857-4a00-bc97-07c440e732d4"
      },
      "execution_count": 8,
      "outputs": [
        {
          "output_type": "stream",
          "name": "stdout",
          "text": [
            "Requirement already satisfied: Flask in /usr/local/lib/python3.10/dist-packages (2.2.5)\n",
            "Requirement already satisfied: SQLAlchemy in /usr/local/lib/python3.10/dist-packages (2.0.29)\n",
            "Requirement already satisfied: Werkzeug>=2.2.2 in /usr/local/lib/python3.10/dist-packages (from Flask) (3.0.2)\n",
            "Requirement already satisfied: Jinja2>=3.0 in /usr/local/lib/python3.10/dist-packages (from Flask) (3.1.3)\n",
            "Requirement already satisfied: itsdangerous>=2.0 in /usr/local/lib/python3.10/dist-packages (from Flask) (2.2.0)\n",
            "Requirement already satisfied: click>=8.0 in /usr/local/lib/python3.10/dist-packages (from Flask) (8.1.7)\n",
            "Requirement already satisfied: typing-extensions>=4.6.0 in /usr/local/lib/python3.10/dist-packages (from SQLAlchemy) (4.11.0)\n",
            "Requirement already satisfied: greenlet!=0.4.17 in /usr/local/lib/python3.10/dist-packages (from SQLAlchemy) (3.0.3)\n",
            "Requirement already satisfied: MarkupSafe>=2.0 in /usr/local/lib/python3.10/dist-packages (from Jinja2>=3.0->Flask) (2.1.5)\n"
          ]
        }
      ]
    },
    {
      "cell_type": "code",
      "source": [
        "import json\n",
        "import csv\n",
        "\n",
        "# Load JSON data\n",
        "file_path = '/content/drive/MyDrive/THIRUKURAL/thirukural_git.json'\n",
        "with open(file_path, 'r', encoding='utf-8') as file:\n",
        "    data = json.load(file)['kurals']  # Adjust this depending on the structure of your JSON\n",
        "\n",
        "# Prepare to write to CSV\n",
        "csv_file_path = 'output.csv'\n",
        "with open(csv_file_path, 'w', newline='', encoding='utf-8') as csvfile:\n",
        "    fieldnames = ['chapter', 'number', 'section', 'kural', 'meaning_ta_mu_va', 'meaning_ta_salamon', 'meaning_en']\n",
        "    writer = csv.DictWriter(csvfile, fieldnames=fieldnames)\n",
        "\n",
        "    writer.writeheader()\n",
        "\n",
        "    for item in data:\n",
        "        # Prepare data, combining kural parts\n",
        "        kural_combined = ' '.join(item['kural'])\n",
        "\n",
        "        row = {\n",
        "            'chapter': item['chapter'],\n",
        "            'number': item['number'],\n",
        "            'section': item['section'],\n",
        "            'kural': kural_combined,\n",
        "            'meaning_ta_mu_va': item['meaning'].get('ta_mu_va', ''),\n",
        "            'meaning_ta_salamon': item['meaning'].get('ta_salamon', ''),\n",
        "            'meaning_en': item['meaning'].get('en', '')\n",
        "        }\n",
        "        writer.writerow(row)\n",
        "\n",
        "print(f\"Data has been written to {csv_file_path}\")\n",
        "\n"
      ],
      "metadata": {
        "colab": {
          "base_uri": "https://localhost:8080/"
        },
        "id": "L0hyLUm_a7UI",
        "outputId": "12bdc0bf-1ead-41e5-e84a-b2728e698042"
      },
      "execution_count": 29,
      "outputs": [
        {
          "output_type": "stream",
          "name": "stdout",
          "text": [
            "Data has been written to output.csv\n"
          ]
        }
      ]
    },
    {
      "cell_type": "code",
      "source": [
        "import json\n",
        "import sqlite3\n",
        "\n",
        "# Load JSON data\n",
        "file_path = '/content/drive/MyDrive/THIRUKURAL/thirukural_git.json'\n",
        "with open(file_path, 'r', encoding='utf-8') as file:\n",
        "    data = json.load(file)['kurals']  # Adjust this depending on the structure of your JSON\n",
        "\n",
        "# Connect to SQLite database (or create it if it doesn't exist)\n",
        "conn = sqlite3.connect('kurals.db')\n",
        "c = conn.cursor()\n",
        "\n",
        "# Define the table schema\n",
        "c.execute('''\n",
        "CREATE TABLE IF NOT EXISTS kural (\n",
        "    id INTEGER PRIMARY KEY,\n",
        "    chapter TEXT,\n",
        "    number INTEGER,\n",
        "    section TEXT,\n",
        "    kural TEXT,\n",
        "    meaning_ta_mu_va TEXT,\n",
        "    meaning_ta_salamon TEXT,\n",
        "    meaning_en TEXT\n",
        ")\n",
        "''')\n",
        "\n",
        "# Insert data into the table\n",
        "for item in data:\n",
        "    kural_combined = ' '.join(item['kural'])  # Combine the kural parts into a single string\n",
        "\n",
        "    c.execute('''\n",
        "    INSERT INTO kural (chapter, number, section, kural, meaning_ta_mu_va, meaning_ta_salamon, meaning_en) VALUES (?, ?, ?, ?, ?, ?, ?)\n",
        "    ''', (\n",
        "        item['chapter'],\n",
        "        item['number'],\n",
        "        item['section'],\n",
        "        kural_combined,\n",
        "        item['meaning'].get('ta_mu_va', ''),\n",
        "        item['meaning'].get('ta_salamon', ''),\n",
        "        item['meaning'].get('en', '')\n",
        "    ))\n",
        "\n",
        "# Commit changes and close the connection\n",
        "conn.commit()\n",
        "conn.close()\n"
      ],
      "metadata": {
        "id": "6mg5O4VUSDNS"
      },
      "execution_count": 30,
      "outputs": []
    }
  ]
}